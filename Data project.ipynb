{
 "cells": [
  {
   "cell_type": "markdown",
   "metadata": {},
   "source": [
    "PDA 2019 Kaggle Data Competition\n",
    "For the Data competition the task was to build a recommender system using information from a movie rating database. The training data was composed of user's ratings of different movies and information on the movies (genre, visual features, release year, tags and title). The objective of the system was to recommend to each user in the test set their top 10 favorite movies. \n",
    "The algorithm I decided to use for this assignment was SVD. SVD stands for Singular Value Decomposition which works using matrix factorization. Matrix factorization breaks down one matrix into the product of multiple matrices. Although there are many ways to do matrix factorization, SVD is quite powerful when used for recommendations. It decomposes a matrix into two unitary matrices and a diagonal matrix.\n",
    "\n",
    "                                               R=UΣV^T\n",
    "                                               \n",
    "Where R is our user ratings matrix, U is the user features matrix, Σ is the diagonal matrix of singular values and V^T is the movie features matrix. U and V^T are orthogonal, U represents how much users ‘like’ each feature and V^T represents how relevant each feature is to a movie. To get the lower rank approximation, I use the matrices and keep only the top k features, which are the k most relevant taste and preference vectors.\n"
   ]
  },
  {
   "cell_type": "code",
   "execution_count": 1,
   "metadata": {
    "pycharm": {
     "is_executing": false,
     "name": "#%%\n"
    }
   },
   "outputs": [
    {
     "ename": "ModuleNotFoundError",
     "evalue": "No module named 'surprise'",
     "output_type": "error",
     "traceback": [
      "\u001b[1;31m---------------------------------------------------------------------------\u001b[0m",
      "\u001b[1;31mModuleNotFoundError\u001b[0m                       Traceback (most recent call last)",
      "\u001b[1;32m<ipython-input-1-5dd419c94627>\u001b[0m in \u001b[0;36m<module>\u001b[1;34m\u001b[0m\n\u001b[0;32m      1\u001b[0m \u001b[1;32mimport\u001b[0m \u001b[0mpandas\u001b[0m \u001b[1;32mas\u001b[0m \u001b[0mpd\u001b[0m\u001b[1;33m\u001b[0m\u001b[1;33m\u001b[0m\u001b[0m\n\u001b[0;32m      2\u001b[0m \u001b[1;32mimport\u001b[0m \u001b[0mnumpy\u001b[0m \u001b[1;32mas\u001b[0m \u001b[0mnp\u001b[0m\u001b[1;33m\u001b[0m\u001b[1;33m\u001b[0m\u001b[0m\n\u001b[1;32m----> 3\u001b[1;33m \u001b[1;32mfrom\u001b[0m \u001b[0msurprise\u001b[0m \u001b[1;32mimport\u001b[0m \u001b[0mDataset\u001b[0m\u001b[1;33m,\u001b[0m\u001b[0mReader\u001b[0m\u001b[1;33m,\u001b[0m\u001b[0mSVD\u001b[0m\u001b[1;33m\u001b[0m\u001b[1;33m\u001b[0m\u001b[0m\n\u001b[0m\u001b[0;32m      4\u001b[0m \u001b[1;32mfrom\u001b[0m \u001b[0mscipy\u001b[0m\u001b[1;33m.\u001b[0m\u001b[0msparse\u001b[0m\u001b[1;33m.\u001b[0m\u001b[0mlinalg\u001b[0m \u001b[1;32mimport\u001b[0m \u001b[0msvds\u001b[0m\u001b[1;33m\u001b[0m\u001b[1;33m\u001b[0m\u001b[0m\n\u001b[0;32m      5\u001b[0m \u001b[0mrating_df\u001b[0m \u001b[1;33m=\u001b[0m \u001b[0mpd\u001b[0m\u001b[1;33m.\u001b[0m\u001b[0mread_csv\u001b[0m\u001b[1;33m(\u001b[0m\u001b[1;34m'../data/train-PDA2019.csv'\u001b[0m\u001b[1;33m,\u001b[0m\u001b[0msep\u001b[0m\u001b[1;33m=\u001b[0m\u001b[1;34m','\u001b[0m\u001b[1;33m)\u001b[0m\u001b[1;33m\u001b[0m\u001b[1;33m\u001b[0m\u001b[0m\n",
      "\u001b[1;31mModuleNotFoundError\u001b[0m: No module named 'surprise'"
     ]
    }
   ],
   "source": [
    "import pandas as pd\n",
    "import numpy as np\n",
    "from surprise import Dataset,Reader,SVD\n",
    "from scipy.sparse.linalg import svds\n",
    "rating_df = pd.read_csv('../data/train-PDA2019.csv',sep=',')\n",
    "rating_df.head()\n",
    "rating_df.head()\n",
    "movies_df = pd.read_csv('../data/content-PDA2019.csv',sep=',')\n",
    "rating_df.head()\n",
    "test = pd.read_csv('../data/test-PDA2019.csv')\n"
   ]
  },
  {
   "cell_type": "code",
   "execution_count": 2,
   "metadata": {
    "pycharm": {
     "is_executing": false,
     "name": "#%%\n"
    }
   },
   "outputs": [
    {
     "ename": "NameError",
     "evalue": "name 'Reader' is not defined",
     "output_type": "error",
     "traceback": [
      "\u001b[1;31m---------------------------------------------------------------------------\u001b[0m",
      "\u001b[1;31mNameError\u001b[0m                                 Traceback (most recent call last)",
      "\u001b[1;32m<ipython-input-2-cac93e0c3d8c>\u001b[0m in \u001b[0;36m<module>\u001b[1;34m\u001b[0m\n\u001b[1;32m----> 1\u001b[1;33m \u001b[0mreader\u001b[0m \u001b[1;33m=\u001b[0m \u001b[0mReader\u001b[0m\u001b[1;33m(\u001b[0m\u001b[0mrating_scale\u001b[0m\u001b[1;33m=\u001b[0m\u001b[1;33m(\u001b[0m\u001b[1;36m1\u001b[0m\u001b[1;33m,\u001b[0m\u001b[1;36m5\u001b[0m\u001b[1;33m)\u001b[0m\u001b[1;33m)\u001b[0m\u001b[1;33m\u001b[0m\u001b[1;33m\u001b[0m\u001b[0m\n\u001b[0m\u001b[0;32m      2\u001b[0m \u001b[0mdata\u001b[0m \u001b[1;33m=\u001b[0m \u001b[0mDataset\u001b[0m\u001b[1;33m.\u001b[0m\u001b[0mload_from_df\u001b[0m\u001b[1;33m(\u001b[0m\u001b[0mrating_df\u001b[0m\u001b[1;33m[\u001b[0m\u001b[1;33m[\u001b[0m\u001b[1;34m'userID'\u001b[0m\u001b[1;33m,\u001b[0m\u001b[1;34m'itemID'\u001b[0m\u001b[1;33m,\u001b[0m\u001b[1;34m'rating'\u001b[0m\u001b[1;33m]\u001b[0m\u001b[1;33m]\u001b[0m\u001b[1;33m,\u001b[0m\u001b[0mreader\u001b[0m\u001b[1;33m)\u001b[0m\u001b[1;33m\u001b[0m\u001b[1;33m\u001b[0m\u001b[0m\n",
      "\u001b[1;31mNameError\u001b[0m: name 'Reader' is not defined"
     ]
    }
   ],
   "source": [
    "\n",
    "reader = Reader(rating_scale=(1,5))\n",
    "data = Dataset.load_from_df(rating_df[['userID','itemID','rating']],reader)"
   ]
  },
  {
   "cell_type": "markdown",
   "metadata": {},
   "source": [
    "I pivot the original ratings dataset as to have every usedID on 1 row and every movieID on 1 column. Then we can compute the average rating for each user, then normalize the data by using the average of each user in R_demeaned."
   ]
  },
  {
   "cell_type": "code",
   "execution_count": 17,
   "metadata": {
    "pycharm": {
     "is_executing": false,
     "name": "#%%\n"
    },
    "scrolled": true
   },
   "outputs": [],
   "source": [
    "r_df = rating_df.pivot(index = 'userID', columns ='itemID', values = 'rating')\n"
   ]
  },
  {
   "cell_type": "markdown",
   "metadata": {},
   "source": [
    "Then we can compute the average rating for each user, then normalize the data by using the average of each user in R_demeaned. We used the pivoted dataset to replace the values for each movies with the average for each user. Doing this we normalize and set the unknown rates with the user mean(0 after substraction)"
   ]
  },
  {
   "cell_type": "code",
   "execution_count": 6,
   "metadata": {
    "pycharm": {
     "is_executing": false
    },
    "scrolled": true
   },
   "outputs": [
    {
     "ename": "NameError",
     "evalue": "name 'r_df' is not defined",
     "output_type": "error",
     "traceback": [
      "\u001b[1;31m---------------------------------------------------------------------------\u001b[0m",
      "\u001b[1;31mNameError\u001b[0m                                 Traceback (most recent call last)",
      "\u001b[1;32m<ipython-input-6-f93c0155b041>\u001b[0m in \u001b[0;36m<module>\u001b[1;34m\u001b[0m\n\u001b[1;32m----> 1\u001b[1;33m \u001b[0musers_mean\u001b[0m\u001b[1;33m=\u001b[0m\u001b[0mnp\u001b[0m\u001b[1;33m.\u001b[0m\u001b[0marray\u001b[0m\u001b[1;33m(\u001b[0m\u001b[0mr_df\u001b[0m\u001b[1;33m.\u001b[0m\u001b[0mmean\u001b[0m\u001b[1;33m(\u001b[0m\u001b[0maxis\u001b[0m\u001b[1;33m=\u001b[0m\u001b[1;36m1\u001b[0m\u001b[1;33m)\u001b[0m\u001b[1;33m)\u001b[0m\u001b[1;33m\u001b[0m\u001b[1;33m\u001b[0m\u001b[0m\n\u001b[0m\u001b[0;32m      2\u001b[0m \u001b[0mR_demeaned\u001b[0m\u001b[1;33m=\u001b[0m\u001b[0mr_df\u001b[0m\u001b[1;33m.\u001b[0m\u001b[0msub\u001b[0m\u001b[1;33m(\u001b[0m\u001b[0mr_df\u001b[0m\u001b[1;33m.\u001b[0m\u001b[0mmean\u001b[0m\u001b[1;33m(\u001b[0m\u001b[0maxis\u001b[0m\u001b[1;33m=\u001b[0m\u001b[1;36m1\u001b[0m\u001b[1;33m)\u001b[0m\u001b[1;33m,\u001b[0m \u001b[0maxis\u001b[0m\u001b[1;33m=\u001b[0m\u001b[1;36m0\u001b[0m\u001b[1;33m)\u001b[0m\u001b[1;33m\u001b[0m\u001b[1;33m\u001b[0m\u001b[0m\n\u001b[0;32m      3\u001b[0m \u001b[0mR_demeaned\u001b[0m\u001b[1;33m=\u001b[0m\u001b[0mR_demeaned\u001b[0m\u001b[1;33m.\u001b[0m\u001b[0mfillna\u001b[0m\u001b[1;33m(\u001b[0m\u001b[1;36m0\u001b[0m\u001b[1;33m)\u001b[0m\u001b[1;33m.\u001b[0m\u001b[0mas_matrix\u001b[0m\u001b[1;33m(\u001b[0m\u001b[1;33m)\u001b[0m\u001b[1;33m\u001b[0m\u001b[1;33m\u001b[0m\u001b[0m\n\u001b[0;32m      4\u001b[0m \u001b[0mR_demeaned\u001b[0m\u001b[1;33m\u001b[0m\u001b[1;33m\u001b[0m\u001b[0m\n",
      "\u001b[1;31mNameError\u001b[0m: name 'r_df' is not defined"
     ]
    }
   ],
   "source": [
    "users_mean=np.array(r_df.mean(axis=1))\n",
    "R_demeaned=r_df.sub(r_df.mean(axis=1), axis=0)\n",
    "R_demeaned=R_demeaned.fillna(0).as_matrix()\n",
    "R_demeaned"
   ]
  },
  {
   "cell_type": "code",
   "execution_count": 21,
   "metadata": {
    "pycharm": {
     "is_executing": false,
     "name": "#%%\n"
    }
   },
   "outputs": [
    {
     "data": {
      "text/plain": [
       "(5690, 1824)"
      ]
     },
     "execution_count": 21,
     "metadata": {},
     "output_type": "execute_result"
    }
   ],
   "source": [
    "R_demeaned.shape"
   ]
  },
  {
   "cell_type": "markdown",
   "metadata": {},
   "source": [
    "Now my matrix is properly formatted and normalized, I can go on with the singular value decomposition. I used the svds function from scipy because it lets me choose how many latent factors I use to approimate the original ratings matrix (instead of having to truncate afterwards)"
   ]
  },
  {
   "cell_type": "code",
   "execution_count": 22,
   "metadata": {
    "pycharm": {
     "is_executing": false,
     "name": "#%%\n"
    }
   },
   "outputs": [],
   "source": [
    "U, sigma, Vt = svds(R_demeaned, k = 20,maxiter=20)"
   ]
  },
  {
   "cell_type": "markdown",
   "metadata": {},
   "source": [
    "The svds function just prints out the values of the diagonal matrix we defined above as Σ, but for matrix multiplication we need to convert it into a diagonal matrix."
   ]
  },
  {
   "cell_type": "code",
   "execution_count": null,
   "metadata": {},
   "outputs": [],
   "source": [
    "sigma = np.diag(sigma)\n",
    "sigma"
   ]
  },
  {
   "cell_type": "markdown",
   "metadata": {},
   "source": [
    "Now we have everything we need to predict the ratings for all users and all movies in the original dataset. The way the predictions are computed is by using dot product(matrix) and multiplying the U,Σ and then use that dot product to multiplicate again with  the Vt matrixe to get predicted user ratings. Then I add back the mean of the users to get the predicted ratings."
   ]
  },
  {
   "cell_type": "code",
   "execution_count": 12,
   "metadata": {
    "pycharm": {
     "is_executing": false,
     "name": "#%%\n"
    }
   },
   "outputs": [],
   "source": [
    "all_user_predicted_ratings = np.dot(np.dot(U, sigma), Vt) + users_mean.reshape(-1, 1)\n",
    "preds_df = pd.DataFrame(all_user_predicted_ratings, columns = r_df.columns)\n",
    "preds_df.index=r_df.index.values"
   ]
  },
  {
   "cell_type": "code",
   "execution_count": 13,
   "metadata": {
    "pycharm": {
     "is_executing": false,
     "name": "#%%\n"
    },
    "scrolled": true
   },
   "outputs": [
    {
     "data": {
      "text/html": [
       "<div>\n",
       "<style scoped>\n",
       "    .dataframe tbody tr th:only-of-type {\n",
       "        vertical-align: middle;\n",
       "    }\n",
       "\n",
       "    .dataframe tbody tr th {\n",
       "        vertical-align: top;\n",
       "    }\n",
       "\n",
       "    .dataframe thead th {\n",
       "        text-align: right;\n",
       "    }\n",
       "</style>\n",
       "<table border=\"1\" class=\"dataframe\">\n",
       "  <thead>\n",
       "    <tr style=\"text-align: right;\">\n",
       "      <th>itemID</th>\n",
       "      <th>89</th>\n",
       "      <th>93</th>\n",
       "      <th>94</th>\n",
       "      <th>95</th>\n",
       "      <th>97</th>\n",
       "      <th>98</th>\n",
       "      <th>100</th>\n",
       "      <th>101</th>\n",
       "      <th>102</th>\n",
       "      <th>104</th>\n",
       "      <th>...</th>\n",
       "      <th>3929</th>\n",
       "      <th>3930</th>\n",
       "      <th>3931</th>\n",
       "      <th>3932</th>\n",
       "      <th>3937</th>\n",
       "      <th>3938</th>\n",
       "      <th>3945</th>\n",
       "      <th>3946</th>\n",
       "      <th>3950</th>\n",
       "      <th>3952</th>\n",
       "    </tr>\n",
       "  </thead>\n",
       "  <tbody>\n",
       "    <tr>\n",
       "      <th>1</th>\n",
       "      <td>4.000000</td>\n",
       "      <td>4.000000</td>\n",
       "      <td>4.000000</td>\n",
       "      <td>4.000000</td>\n",
       "      <td>4.000000</td>\n",
       "      <td>4.000000</td>\n",
       "      <td>4.000000</td>\n",
       "      <td>4.000000</td>\n",
       "      <td>4.000000</td>\n",
       "      <td>4.000000</td>\n",
       "      <td>...</td>\n",
       "      <td>4.000000</td>\n",
       "      <td>4.000000</td>\n",
       "      <td>4.000000</td>\n",
       "      <td>4.000000</td>\n",
       "      <td>4.000000</td>\n",
       "      <td>4.000000</td>\n",
       "      <td>4.000000</td>\n",
       "      <td>4.000000</td>\n",
       "      <td>4.000000</td>\n",
       "      <td>4.000000</td>\n",
       "    </tr>\n",
       "    <tr>\n",
       "      <th>3</th>\n",
       "      <td>4.068796</td>\n",
       "      <td>4.061406</td>\n",
       "      <td>4.056998</td>\n",
       "      <td>4.071683</td>\n",
       "      <td>4.065849</td>\n",
       "      <td>4.080423</td>\n",
       "      <td>4.096717</td>\n",
       "      <td>4.089263</td>\n",
       "      <td>4.051843</td>\n",
       "      <td>4.097777</td>\n",
       "      <td>...</td>\n",
       "      <td>4.082270</td>\n",
       "      <td>4.114935</td>\n",
       "      <td>4.064369</td>\n",
       "      <td>4.064677</td>\n",
       "      <td>4.037437</td>\n",
       "      <td>4.067180</td>\n",
       "      <td>4.082781</td>\n",
       "      <td>4.076501</td>\n",
       "      <td>4.087368</td>\n",
       "      <td>4.075616</td>\n",
       "    </tr>\n",
       "    <tr>\n",
       "      <th>5</th>\n",
       "      <td>4.353793</td>\n",
       "      <td>4.314717</td>\n",
       "      <td>4.284275</td>\n",
       "      <td>4.356992</td>\n",
       "      <td>4.317164</td>\n",
       "      <td>4.302795</td>\n",
       "      <td>4.257032</td>\n",
       "      <td>4.293577</td>\n",
       "      <td>4.326788</td>\n",
       "      <td>4.172904</td>\n",
       "      <td>...</td>\n",
       "      <td>4.293126</td>\n",
       "      <td>4.256334</td>\n",
       "      <td>4.303050</td>\n",
       "      <td>4.294403</td>\n",
       "      <td>4.354948</td>\n",
       "      <td>4.273185</td>\n",
       "      <td>4.277415</td>\n",
       "      <td>4.354635</td>\n",
       "      <td>4.334967</td>\n",
       "      <td>4.355816</td>\n",
       "    </tr>\n",
       "    <tr>\n",
       "      <th>7</th>\n",
       "      <td>4.112597</td>\n",
       "      <td>4.143994</td>\n",
       "      <td>4.149516</td>\n",
       "      <td>4.061567</td>\n",
       "      <td>4.146658</td>\n",
       "      <td>4.144155</td>\n",
       "      <td>4.149181</td>\n",
       "      <td>4.116078</td>\n",
       "      <td>4.182591</td>\n",
       "      <td>4.159403</td>\n",
       "      <td>...</td>\n",
       "      <td>4.148637</td>\n",
       "      <td>4.132310</td>\n",
       "      <td>4.137964</td>\n",
       "      <td>4.157293</td>\n",
       "      <td>4.191658</td>\n",
       "      <td>4.151345</td>\n",
       "      <td>4.162280</td>\n",
       "      <td>4.169970</td>\n",
       "      <td>4.114594</td>\n",
       "      <td>4.127912</td>\n",
       "    </tr>\n",
       "    <tr>\n",
       "      <th>9</th>\n",
       "      <td>3.301906</td>\n",
       "      <td>3.388734</td>\n",
       "      <td>3.338637</td>\n",
       "      <td>3.260410</td>\n",
       "      <td>3.335613</td>\n",
       "      <td>3.339122</td>\n",
       "      <td>3.371196</td>\n",
       "      <td>3.429613</td>\n",
       "      <td>3.327346</td>\n",
       "      <td>3.326691</td>\n",
       "      <td>...</td>\n",
       "      <td>3.329216</td>\n",
       "      <td>3.188028</td>\n",
       "      <td>3.277524</td>\n",
       "      <td>3.311117</td>\n",
       "      <td>3.355953</td>\n",
       "      <td>3.343276</td>\n",
       "      <td>3.434101</td>\n",
       "      <td>3.324074</td>\n",
       "      <td>3.225159</td>\n",
       "      <td>3.155942</td>\n",
       "    </tr>\n",
       "    <tr>\n",
       "      <th>...</th>\n",
       "      <td>...</td>\n",
       "      <td>...</td>\n",
       "      <td>...</td>\n",
       "      <td>...</td>\n",
       "      <td>...</td>\n",
       "      <td>...</td>\n",
       "      <td>...</td>\n",
       "      <td>...</td>\n",
       "      <td>...</td>\n",
       "      <td>...</td>\n",
       "      <td>...</td>\n",
       "      <td>...</td>\n",
       "      <td>...</td>\n",
       "      <td>...</td>\n",
       "      <td>...</td>\n",
       "      <td>...</td>\n",
       "      <td>...</td>\n",
       "      <td>...</td>\n",
       "      <td>...</td>\n",
       "      <td>...</td>\n",
       "      <td>...</td>\n",
       "    </tr>\n",
       "    <tr>\n",
       "      <th>12069</th>\n",
       "      <td>2.526723</td>\n",
       "      <td>2.527010</td>\n",
       "      <td>2.656473</td>\n",
       "      <td>2.536531</td>\n",
       "      <td>2.660777</td>\n",
       "      <td>2.676989</td>\n",
       "      <td>2.541800</td>\n",
       "      <td>2.829495</td>\n",
       "      <td>2.439088</td>\n",
       "      <td>3.045958</td>\n",
       "      <td>...</td>\n",
       "      <td>2.612726</td>\n",
       "      <td>2.522441</td>\n",
       "      <td>2.672929</td>\n",
       "      <td>2.627734</td>\n",
       "      <td>2.693609</td>\n",
       "      <td>2.669347</td>\n",
       "      <td>2.655035</td>\n",
       "      <td>2.898758</td>\n",
       "      <td>2.706967</td>\n",
       "      <td>2.866595</td>\n",
       "    </tr>\n",
       "    <tr>\n",
       "      <th>12071</th>\n",
       "      <td>3.407234</td>\n",
       "      <td>3.238238</td>\n",
       "      <td>3.126906</td>\n",
       "      <td>3.233675</td>\n",
       "      <td>3.275500</td>\n",
       "      <td>3.372047</td>\n",
       "      <td>3.369980</td>\n",
       "      <td>3.169492</td>\n",
       "      <td>3.460149</td>\n",
       "      <td>3.038088</td>\n",
       "      <td>...</td>\n",
       "      <td>3.426444</td>\n",
       "      <td>3.453158</td>\n",
       "      <td>3.242676</td>\n",
       "      <td>3.402915</td>\n",
       "      <td>3.217141</td>\n",
       "      <td>3.333078</td>\n",
       "      <td>3.724724</td>\n",
       "      <td>3.167315</td>\n",
       "      <td>3.405940</td>\n",
       "      <td>3.251843</td>\n",
       "    </tr>\n",
       "    <tr>\n",
       "      <th>12073</th>\n",
       "      <td>3.546506</td>\n",
       "      <td>3.561170</td>\n",
       "      <td>3.507800</td>\n",
       "      <td>3.525806</td>\n",
       "      <td>3.505455</td>\n",
       "      <td>3.527509</td>\n",
       "      <td>3.536614</td>\n",
       "      <td>3.527397</td>\n",
       "      <td>3.481934</td>\n",
       "      <td>3.496873</td>\n",
       "      <td>...</td>\n",
       "      <td>3.500170</td>\n",
       "      <td>3.483428</td>\n",
       "      <td>3.535617</td>\n",
       "      <td>3.498467</td>\n",
       "      <td>3.528067</td>\n",
       "      <td>3.546146</td>\n",
       "      <td>3.470147</td>\n",
       "      <td>3.548009</td>\n",
       "      <td>3.524073</td>\n",
       "      <td>3.553793</td>\n",
       "    </tr>\n",
       "    <tr>\n",
       "      <th>12077</th>\n",
       "      <td>4.000676</td>\n",
       "      <td>4.039090</td>\n",
       "      <td>4.025830</td>\n",
       "      <td>3.958430</td>\n",
       "      <td>4.006532</td>\n",
       "      <td>4.018978</td>\n",
       "      <td>3.971515</td>\n",
       "      <td>3.988499</td>\n",
       "      <td>4.029222</td>\n",
       "      <td>3.963382</td>\n",
       "      <td>...</td>\n",
       "      <td>4.029392</td>\n",
       "      <td>3.913115</td>\n",
       "      <td>3.999561</td>\n",
       "      <td>4.020765</td>\n",
       "      <td>4.028088</td>\n",
       "      <td>3.994795</td>\n",
       "      <td>4.000643</td>\n",
       "      <td>4.019498</td>\n",
       "      <td>4.007097</td>\n",
       "      <td>4.053066</td>\n",
       "    </tr>\n",
       "    <tr>\n",
       "      <th>12079</th>\n",
       "      <td>3.503164</td>\n",
       "      <td>3.509943</td>\n",
       "      <td>3.790412</td>\n",
       "      <td>3.503146</td>\n",
       "      <td>3.632045</td>\n",
       "      <td>3.542550</td>\n",
       "      <td>3.613785</td>\n",
       "      <td>3.452916</td>\n",
       "      <td>3.674506</td>\n",
       "      <td>3.805626</td>\n",
       "      <td>...</td>\n",
       "      <td>3.564790</td>\n",
       "      <td>3.536144</td>\n",
       "      <td>3.571239</td>\n",
       "      <td>3.600281</td>\n",
       "      <td>3.393540</td>\n",
       "      <td>3.463822</td>\n",
       "      <td>3.315879</td>\n",
       "      <td>3.506602</td>\n",
       "      <td>3.565329</td>\n",
       "      <td>3.332526</td>\n",
       "    </tr>\n",
       "  </tbody>\n",
       "</table>\n",
       "<p>5690 rows × 1824 columns</p>\n",
       "</div>"
      ],
      "text/plain": [
       "itemID      89        93        94        95        97        98        100   \\\n",
       "1       4.000000  4.000000  4.000000  4.000000  4.000000  4.000000  4.000000   \n",
       "3       4.068796  4.061406  4.056998  4.071683  4.065849  4.080423  4.096717   \n",
       "5       4.353793  4.314717  4.284275  4.356992  4.317164  4.302795  4.257032   \n",
       "7       4.112597  4.143994  4.149516  4.061567  4.146658  4.144155  4.149181   \n",
       "9       3.301906  3.388734  3.338637  3.260410  3.335613  3.339122  3.371196   \n",
       "...          ...       ...       ...       ...       ...       ...       ...   \n",
       "12069   2.526723  2.527010  2.656473  2.536531  2.660777  2.676989  2.541800   \n",
       "12071   3.407234  3.238238  3.126906  3.233675  3.275500  3.372047  3.369980   \n",
       "12073   3.546506  3.561170  3.507800  3.525806  3.505455  3.527509  3.536614   \n",
       "12077   4.000676  4.039090  4.025830  3.958430  4.006532  4.018978  3.971515   \n",
       "12079   3.503164  3.509943  3.790412  3.503146  3.632045  3.542550  3.613785   \n",
       "\n",
       "itemID      101       102       104   ...      3929      3930      3931  \\\n",
       "1       4.000000  4.000000  4.000000  ...  4.000000  4.000000  4.000000   \n",
       "3       4.089263  4.051843  4.097777  ...  4.082270  4.114935  4.064369   \n",
       "5       4.293577  4.326788  4.172904  ...  4.293126  4.256334  4.303050   \n",
       "7       4.116078  4.182591  4.159403  ...  4.148637  4.132310  4.137964   \n",
       "9       3.429613  3.327346  3.326691  ...  3.329216  3.188028  3.277524   \n",
       "...          ...       ...       ...  ...       ...       ...       ...   \n",
       "12069   2.829495  2.439088  3.045958  ...  2.612726  2.522441  2.672929   \n",
       "12071   3.169492  3.460149  3.038088  ...  3.426444  3.453158  3.242676   \n",
       "12073   3.527397  3.481934  3.496873  ...  3.500170  3.483428  3.535617   \n",
       "12077   3.988499  4.029222  3.963382  ...  4.029392  3.913115  3.999561   \n",
       "12079   3.452916  3.674506  3.805626  ...  3.564790  3.536144  3.571239   \n",
       "\n",
       "itemID      3932      3937      3938      3945      3946      3950      3952  \n",
       "1       4.000000  4.000000  4.000000  4.000000  4.000000  4.000000  4.000000  \n",
       "3       4.064677  4.037437  4.067180  4.082781  4.076501  4.087368  4.075616  \n",
       "5       4.294403  4.354948  4.273185  4.277415  4.354635  4.334967  4.355816  \n",
       "7       4.157293  4.191658  4.151345  4.162280  4.169970  4.114594  4.127912  \n",
       "9       3.311117  3.355953  3.343276  3.434101  3.324074  3.225159  3.155942  \n",
       "...          ...       ...       ...       ...       ...       ...       ...  \n",
       "12069   2.627734  2.693609  2.669347  2.655035  2.898758  2.706967  2.866595  \n",
       "12071   3.402915  3.217141  3.333078  3.724724  3.167315  3.405940  3.251843  \n",
       "12073   3.498467  3.528067  3.546146  3.470147  3.548009  3.524073  3.553793  \n",
       "12077   4.020765  4.028088  3.994795  4.000643  4.019498  4.007097  4.053066  \n",
       "12079   3.600281  3.393540  3.463822  3.315879  3.506602  3.565329  3.332526  \n",
       "\n",
       "[5690 rows x 1824 columns]"
      ]
     },
     "execution_count": 13,
     "metadata": {},
     "output_type": "execute_result"
    }
   ],
   "source": [
    "all_user_predicted_ratings\n",
    "preds_df"
   ]
  },
  {
   "cell_type": "markdown",
   "metadata": {},
   "source": [
    "In the preds_df dataframe, each column of itemID refers to a movie and each row represents on user. What I did next is sort the ratings in descdendig order to get the top 10 predited ratings for each user. Also, I used the userID column from thetest dataset as the index to extract the predictions only for the users in the test set"
   ]
  },
  {
   "cell_type": "code",
   "execution_count": 14,
   "metadata": {
    "pycharm": {
     "is_executing": false,
     "name": "#%%\n"
    },
    "scrolled": true
   },
   "outputs": [
    {
     "data": {
      "text/plain": [
       "0           1\n",
       "1           3\n",
       "2          11\n",
       "3          29\n",
       "4          31\n",
       "        ...  \n",
       "1987    12047\n",
       "1988    12051\n",
       "1989    12061\n",
       "1990    12063\n",
       "1991    12073\n",
       "Name: userID, Length: 1992, dtype: int64"
      ]
     },
     "execution_count": 14,
     "metadata": {},
     "output_type": "execute_result"
    }
   ],
   "source": [
    "users = test.loc[:,'userID']\n",
    "users"
   ]
  },
  {
   "cell_type": "code",
   "execution_count": null,
   "metadata": {},
   "outputs": [],
   "source": []
  },
  {
   "cell_type": "code",
   "execution_count": 15,
   "metadata": {
    "pycharm": {
     "is_executing": false,
     "name": "#%%\n"
    }
   },
   "outputs": [
    {
     "ename": "NameError",
     "evalue": "name 'final_df' is not defined",
     "output_type": "error",
     "traceback": [
      "\u001b[1;31m---------------------------------------------------------------------------\u001b[0m",
      "\u001b[1;31mNameError\u001b[0m                                 Traceback (most recent call last)",
      "\u001b[1;32m<ipython-input-15-3953750b9106>\u001b[0m in \u001b[0;36m<module>\u001b[1;34m\u001b[0m\n\u001b[0;32m     10\u001b[0m     \u001b[0mindices_str\u001b[0m \u001b[1;33m=\u001b[0m \u001b[0mstr\u001b[0m\u001b[1;33m(\u001b[0m\u001b[0mindices\u001b[0m\u001b[1;33m)\u001b[0m\u001b[1;33m.\u001b[0m\u001b[0mstrip\u001b[0m\u001b[1;33m(\u001b[0m\u001b[1;34m'[]'\u001b[0m\u001b[1;33m)\u001b[0m\u001b[1;33m.\u001b[0m\u001b[0mreplace\u001b[0m\u001b[1;33m(\u001b[0m\u001b[1;34m\",\"\u001b[0m\u001b[1;33m,\u001b[0m \u001b[1;34m\" \"\u001b[0m\u001b[1;33m)\u001b[0m\u001b[1;33m\u001b[0m\u001b[1;33m\u001b[0m\u001b[0m\n\u001b[0;32m     11\u001b[0m     \u001b[0muser_pred\u001b[0m \u001b[1;33m=\u001b[0m \u001b[1;33m[\u001b[0m\u001b[0mindices\u001b[0m\u001b[1;33m]\u001b[0m\u001b[1;33m\u001b[0m\u001b[1;33m\u001b[0m\u001b[0m\n\u001b[1;32m---> 12\u001b[1;33m     \u001b[0mfinal_df\u001b[0m\u001b[1;33m.\u001b[0m\u001b[0mloc\u001b[0m\u001b[1;33m[\u001b[0m\u001b[0mind\u001b[0m\u001b[1;33m]\u001b[0m \u001b[1;33m=\u001b[0m \u001b[0mpd\u001b[0m\u001b[1;33m.\u001b[0m\u001b[0mSeries\u001b[0m\u001b[1;33m(\u001b[0m\u001b[1;33m{\u001b[0m\u001b[1;34m'userID'\u001b[0m\u001b[1;33m:\u001b[0m\u001b[0muser\u001b[0m\u001b[1;33m,\u001b[0m\u001b[1;34m'recommended_itemIDs'\u001b[0m\u001b[1;33m:\u001b[0m\u001b[0mindices_str\u001b[0m\u001b[1;33m}\u001b[0m\u001b[1;33m)\u001b[0m\u001b[1;33m\u001b[0m\u001b[1;33m\u001b[0m\u001b[0m\n\u001b[0m\u001b[0;32m     13\u001b[0m     \u001b[0mind\u001b[0m \u001b[1;33m+=\u001b[0m \u001b[1;36m1\u001b[0m\u001b[1;33m\u001b[0m\u001b[1;33m\u001b[0m\u001b[0m\n\u001b[0;32m     14\u001b[0m \u001b[1;33m\u001b[0m\u001b[0m\n",
      "\u001b[1;31mNameError\u001b[0m: name 'final_df' is not defined"
     ]
    }
   ],
   "source": [
    "col_names = preds_df.columns\n",
    "ind = 0\n",
    "for j in range(len(users)):\n",
    "    user = users[j]\n",
    "    user_pred = []\n",
    "    rating = preds_df.loc[user,:]\n",
    "    rating = rating.sort_values(ascending=False)\n",
    "    top10 = rating[0:10]\n",
    "    indices = top10.index[:].tolist()\n",
    "    indices_str = str(indices).strip('[]').replace(\",\", \" \")\n",
    "    user_pred = [indices]\n",
    "    final_df.loc[ind] = pd.Series({'userID':user,'recommended_itemIDs':indices_str})\n",
    "    ind += 1"
   ]
  },
  {
   "cell_type": "code",
   "execution_count": 16,
   "metadata": {
    "pycharm": {
     "is_executing": false,
     "name": "#%%\n"
    }
   },
   "outputs": [
    {
     "ename": "NameError",
     "evalue": "name 'final_df' is not defined",
     "output_type": "error",
     "traceback": [
      "\u001b[1;31m---------------------------------------------------------------------------\u001b[0m",
      "\u001b[1;31mNameError\u001b[0m                                 Traceback (most recent call last)",
      "\u001b[1;32m<ipython-input-16-15186226d3d0>\u001b[0m in \u001b[0;36m<module>\u001b[1;34m\u001b[0m\n\u001b[1;32m----> 1\u001b[1;33m \u001b[0mfinal_df\u001b[0m\u001b[1;33m\u001b[0m\u001b[1;33m\u001b[0m\u001b[0m\n\u001b[0m\u001b[0;32m      2\u001b[0m \u001b[1;33m\u001b[0m\u001b[0m\n\u001b[0;32m      3\u001b[0m \u001b[1;33m\u001b[0m\u001b[0m\n\u001b[0;32m      4\u001b[0m \u001b[1;33m\u001b[0m\u001b[0m\n\u001b[0;32m      5\u001b[0m \u001b[1;33m\u001b[0m\u001b[0m\n",
      "\u001b[1;31mNameError\u001b[0m: name 'final_df' is not defined"
     ]
    }
   ],
   "source": [
    "final_df\n",
    "\n",
    "\n"
   ]
  },
  {
   "cell_type": "code",
   "execution_count": null,
   "metadata": {
    "pycharm": {
     "is_executing": false,
     "name": "#%%\n"
    }
   },
   "outputs": [],
   "source": [
    "final_df.to_csv(path_or_buf = 'recommendations.csv', \n",
    "                  index = False,\n",
    "                  header = True, sep = ',')"
   ]
  },
  {
   "cell_type": "code",
   "execution_count": null,
   "metadata": {
    "pycharm": {
     "is_executing": false,
     "name": "#%%\n"
    }
   },
   "outputs": [],
   "source": [
    "\n"
   ]
  }
 ],
 "metadata": {
  "kernelspec": {
   "display_name": "Python 3",
   "language": "python",
   "name": "python3"
  },
  "language_info": {
   "codemirror_mode": {
    "name": "ipython",
    "version": 3
   },
   "file_extension": ".py",
   "mimetype": "text/x-python",
   "name": "python",
   "nbconvert_exporter": "python",
   "pygments_lexer": "ipython3",
   "version": "3.7.3"
  },
  "pycharm": {
   "stem_cell": {
    "cell_type": "raw",
    "metadata": {
     "collapsed": false
    },
    "source": []
   }
  }
 },
 "nbformat": 4,
 "nbformat_minor": 1
}

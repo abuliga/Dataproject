{
 "cells": [
  {
   "cell_type": "markdown",
   "metadata": {},
   "source": [
    "PDA 2019 Kaggle Data Competition\n",
    "For the Data competition the task was to build a recommender system using information from a movie rating database. The training data was composed of user's ratings of different movies and information on the movies (genre, visual features, release year, tags and title). The objective of the system was to recommend to each user in the test set their top 10 favorite movies. \n",
    "The algorithm I decided to use for this assignment was SVD. SVD stands for Singular Value Decomposition which works using matrix factorization. Matrix factorization breaks down one matrix into the product of multiple matrices. Although there are many ways to do matrix factorization, SVD is quite powerful when used for recommendations. It decomposes a matrix into two unitary matrices and a diagonal matrix.\n",
    "\n",
    "                                               R=UΣV^T\n",
    "                                               \n",
    "Where R is our user ratings matrix, U is the user features matrix, Σ is the diagonal matrix of singular values and V^T is the movie features matrix. U and V^T are orthogonal, U represents how much users ‘like’ each feature and V^T represents how relevant each feature is to a movie. To get the lower rank approximation, I use the matrices and keep only the top k features, which are the k most relevant taste and preference vectors.\n",
    "My objective with this model is to return the movies with the highest predicted rating that a specific user has not yet seen. The reason I have chosen the svds function from scipy is because it allowed me to choose the number of latent factors, and also when using the SVD function from surprise, the result I got back from the algorithms in the competition was half that of the SVDS model, also there is no need to truncate after calculation. \n",
    "\n",
    "# Loading the data\n",
    "I first began by loading all the packages I used and loading all the datasets that were offered in the competition."
   ]
  },
  {
   "cell_type": "code",
   "execution_count": 108,
   "metadata": {
    "pycharm": {
     "is_executing": false,
     "name": "#%%\n"
    }
   },
   "outputs": [],
   "source": [
    "import pandas as pd\n",
    "import numpy as np\n",
    "from scipy.sparse.linalg import svds\n",
    "rating_df = pd.read_csv('../data/train-PDA2019.csv',sep=',')\n",
    "rating_df.head()\n",
    "rating_df.head()\n",
    "movies_df = pd.read_csv('../data/content-PDA2019.csv',sep=',')\n",
    "rating_df.head()\n",
    "test = pd.read_csv('../data/test-PDA2019.csv')\n"
   ]
  },
  {
   "cell_type": "markdown",
   "metadata": {},
   "source": [
    "### Transforming the original dataset\n",
    "I pivot the original ratings dataset as to have every usedID on 1 row and every movieID on 1 column. Then we can compute the average rating for each user, then normalize the data by using the average of each user in R_demeaned."
   ]
  },
  {
   "cell_type": "code",
   "execution_count": 109,
   "metadata": {
    "pycharm": {
     "is_executing": false,
     "name": "#%%\n"
    },
    "scrolled": true
   },
   "outputs": [
    {
     "data": {
      "text/plain": "itemID  89    93    94    95    97    98    100   101   102   104   ...  3929  \\\nuserID                                                              ...         \n1        NaN   NaN   NaN   NaN   NaN   NaN   NaN   NaN   NaN   NaN  ...   NaN   \n3        NaN   NaN   NaN   NaN   NaN   NaN   NaN   NaN   NaN   NaN  ...   NaN   \n5        NaN   NaN   NaN   NaN   NaN   NaN   NaN   NaN   NaN   4.0  ...   NaN   \n7        NaN   NaN   NaN   NaN   NaN   NaN   NaN   NaN   NaN   NaN  ...   NaN   \n9        NaN   NaN   NaN   NaN   NaN   NaN   NaN   NaN   NaN   NaN  ...   NaN   \n...      ...   ...   ...   ...   ...   ...   ...   ...   ...   ...  ...   ...   \n12069    NaN   NaN   NaN   NaN   NaN   NaN   NaN   NaN   NaN   NaN  ...   NaN   \n12071    NaN   NaN   NaN   NaN   NaN   NaN   NaN   NaN   NaN   NaN  ...   NaN   \n12073    NaN   NaN   NaN   NaN   NaN   NaN   NaN   NaN   NaN   NaN  ...   NaN   \n12077    NaN   NaN   NaN   NaN   NaN   NaN   NaN   NaN   NaN   NaN  ...   NaN   \n12079    NaN   NaN   NaN   NaN   NaN   NaN   NaN   NaN   NaN   NaN  ...   NaN   \n\nitemID  3930  3931  3932  3937  3938  3945  3946  3950  3952  \nuserID                                                        \n1        NaN   NaN   NaN   NaN   NaN   NaN   NaN   NaN   NaN  \n3        NaN   NaN   NaN   NaN   NaN   NaN   NaN   NaN   NaN  \n5        NaN   NaN   NaN   NaN   NaN   NaN   NaN   NaN   NaN  \n7        NaN   NaN   NaN   NaN   NaN   NaN   NaN   NaN   NaN  \n9        NaN   NaN   NaN   NaN   NaN   NaN   NaN   NaN   NaN  \n...      ...   ...   ...   ...   ...   ...   ...   ...   ...  \n12069    NaN   NaN   NaN   NaN   NaN   NaN   NaN   NaN   NaN  \n12071    NaN   NaN   NaN   NaN   NaN   NaN   NaN   NaN   NaN  \n12073    NaN   NaN   NaN   NaN   NaN   NaN   NaN   NaN   NaN  \n12077    NaN   NaN   NaN   NaN   NaN   NaN   NaN   NaN   NaN  \n12079    NaN   NaN   NaN   NaN   NaN   NaN   NaN   NaN   NaN  \n\n[5690 rows x 1824 columns]",
      "text/html": "<div>\n<style scoped>\n    .dataframe tbody tr th:only-of-type {\n        vertical-align: middle;\n    }\n\n    .dataframe tbody tr th {\n        vertical-align: top;\n    }\n\n    .dataframe thead th {\n        text-align: right;\n    }\n</style>\n<table border=\"1\" class=\"dataframe\">\n  <thead>\n    <tr style=\"text-align: right;\">\n      <th>itemID</th>\n      <th>89</th>\n      <th>93</th>\n      <th>94</th>\n      <th>95</th>\n      <th>97</th>\n      <th>98</th>\n      <th>100</th>\n      <th>101</th>\n      <th>102</th>\n      <th>104</th>\n      <th>...</th>\n      <th>3929</th>\n      <th>3930</th>\n      <th>3931</th>\n      <th>3932</th>\n      <th>3937</th>\n      <th>3938</th>\n      <th>3945</th>\n      <th>3946</th>\n      <th>3950</th>\n      <th>3952</th>\n    </tr>\n    <tr>\n      <th>userID</th>\n      <th></th>\n      <th></th>\n      <th></th>\n      <th></th>\n      <th></th>\n      <th></th>\n      <th></th>\n      <th></th>\n      <th></th>\n      <th></th>\n      <th></th>\n      <th></th>\n      <th></th>\n      <th></th>\n      <th></th>\n      <th></th>\n      <th></th>\n      <th></th>\n      <th></th>\n      <th></th>\n      <th></th>\n    </tr>\n  </thead>\n  <tbody>\n    <tr>\n      <th>1</th>\n      <td>NaN</td>\n      <td>NaN</td>\n      <td>NaN</td>\n      <td>NaN</td>\n      <td>NaN</td>\n      <td>NaN</td>\n      <td>NaN</td>\n      <td>NaN</td>\n      <td>NaN</td>\n      <td>NaN</td>\n      <td>...</td>\n      <td>NaN</td>\n      <td>NaN</td>\n      <td>NaN</td>\n      <td>NaN</td>\n      <td>NaN</td>\n      <td>NaN</td>\n      <td>NaN</td>\n      <td>NaN</td>\n      <td>NaN</td>\n      <td>NaN</td>\n    </tr>\n    <tr>\n      <th>3</th>\n      <td>NaN</td>\n      <td>NaN</td>\n      <td>NaN</td>\n      <td>NaN</td>\n      <td>NaN</td>\n      <td>NaN</td>\n      <td>NaN</td>\n      <td>NaN</td>\n      <td>NaN</td>\n      <td>NaN</td>\n      <td>...</td>\n      <td>NaN</td>\n      <td>NaN</td>\n      <td>NaN</td>\n      <td>NaN</td>\n      <td>NaN</td>\n      <td>NaN</td>\n      <td>NaN</td>\n      <td>NaN</td>\n      <td>NaN</td>\n      <td>NaN</td>\n    </tr>\n    <tr>\n      <th>5</th>\n      <td>NaN</td>\n      <td>NaN</td>\n      <td>NaN</td>\n      <td>NaN</td>\n      <td>NaN</td>\n      <td>NaN</td>\n      <td>NaN</td>\n      <td>NaN</td>\n      <td>NaN</td>\n      <td>4.0</td>\n      <td>...</td>\n      <td>NaN</td>\n      <td>NaN</td>\n      <td>NaN</td>\n      <td>NaN</td>\n      <td>NaN</td>\n      <td>NaN</td>\n      <td>NaN</td>\n      <td>NaN</td>\n      <td>NaN</td>\n      <td>NaN</td>\n    </tr>\n    <tr>\n      <th>7</th>\n      <td>NaN</td>\n      <td>NaN</td>\n      <td>NaN</td>\n      <td>NaN</td>\n      <td>NaN</td>\n      <td>NaN</td>\n      <td>NaN</td>\n      <td>NaN</td>\n      <td>NaN</td>\n      <td>NaN</td>\n      <td>...</td>\n      <td>NaN</td>\n      <td>NaN</td>\n      <td>NaN</td>\n      <td>NaN</td>\n      <td>NaN</td>\n      <td>NaN</td>\n      <td>NaN</td>\n      <td>NaN</td>\n      <td>NaN</td>\n      <td>NaN</td>\n    </tr>\n    <tr>\n      <th>9</th>\n      <td>NaN</td>\n      <td>NaN</td>\n      <td>NaN</td>\n      <td>NaN</td>\n      <td>NaN</td>\n      <td>NaN</td>\n      <td>NaN</td>\n      <td>NaN</td>\n      <td>NaN</td>\n      <td>NaN</td>\n      <td>...</td>\n      <td>NaN</td>\n      <td>NaN</td>\n      <td>NaN</td>\n      <td>NaN</td>\n      <td>NaN</td>\n      <td>NaN</td>\n      <td>NaN</td>\n      <td>NaN</td>\n      <td>NaN</td>\n      <td>NaN</td>\n    </tr>\n    <tr>\n      <th>...</th>\n      <td>...</td>\n      <td>...</td>\n      <td>...</td>\n      <td>...</td>\n      <td>...</td>\n      <td>...</td>\n      <td>...</td>\n      <td>...</td>\n      <td>...</td>\n      <td>...</td>\n      <td>...</td>\n      <td>...</td>\n      <td>...</td>\n      <td>...</td>\n      <td>...</td>\n      <td>...</td>\n      <td>...</td>\n      <td>...</td>\n      <td>...</td>\n      <td>...</td>\n      <td>...</td>\n    </tr>\n    <tr>\n      <th>12069</th>\n      <td>NaN</td>\n      <td>NaN</td>\n      <td>NaN</td>\n      <td>NaN</td>\n      <td>NaN</td>\n      <td>NaN</td>\n      <td>NaN</td>\n      <td>NaN</td>\n      <td>NaN</td>\n      <td>NaN</td>\n      <td>...</td>\n      <td>NaN</td>\n      <td>NaN</td>\n      <td>NaN</td>\n      <td>NaN</td>\n      <td>NaN</td>\n      <td>NaN</td>\n      <td>NaN</td>\n      <td>NaN</td>\n      <td>NaN</td>\n      <td>NaN</td>\n    </tr>\n    <tr>\n      <th>12071</th>\n      <td>NaN</td>\n      <td>NaN</td>\n      <td>NaN</td>\n      <td>NaN</td>\n      <td>NaN</td>\n      <td>NaN</td>\n      <td>NaN</td>\n      <td>NaN</td>\n      <td>NaN</td>\n      <td>NaN</td>\n      <td>...</td>\n      <td>NaN</td>\n      <td>NaN</td>\n      <td>NaN</td>\n      <td>NaN</td>\n      <td>NaN</td>\n      <td>NaN</td>\n      <td>NaN</td>\n      <td>NaN</td>\n      <td>NaN</td>\n      <td>NaN</td>\n    </tr>\n    <tr>\n      <th>12073</th>\n      <td>NaN</td>\n      <td>NaN</td>\n      <td>NaN</td>\n      <td>NaN</td>\n      <td>NaN</td>\n      <td>NaN</td>\n      <td>NaN</td>\n      <td>NaN</td>\n      <td>NaN</td>\n      <td>NaN</td>\n      <td>...</td>\n      <td>NaN</td>\n      <td>NaN</td>\n      <td>NaN</td>\n      <td>NaN</td>\n      <td>NaN</td>\n      <td>NaN</td>\n      <td>NaN</td>\n      <td>NaN</td>\n      <td>NaN</td>\n      <td>NaN</td>\n    </tr>\n    <tr>\n      <th>12077</th>\n      <td>NaN</td>\n      <td>NaN</td>\n      <td>NaN</td>\n      <td>NaN</td>\n      <td>NaN</td>\n      <td>NaN</td>\n      <td>NaN</td>\n      <td>NaN</td>\n      <td>NaN</td>\n      <td>NaN</td>\n      <td>...</td>\n      <td>NaN</td>\n      <td>NaN</td>\n      <td>NaN</td>\n      <td>NaN</td>\n      <td>NaN</td>\n      <td>NaN</td>\n      <td>NaN</td>\n      <td>NaN</td>\n      <td>NaN</td>\n      <td>NaN</td>\n    </tr>\n    <tr>\n      <th>12079</th>\n      <td>NaN</td>\n      <td>NaN</td>\n      <td>NaN</td>\n      <td>NaN</td>\n      <td>NaN</td>\n      <td>NaN</td>\n      <td>NaN</td>\n      <td>NaN</td>\n      <td>NaN</td>\n      <td>NaN</td>\n      <td>...</td>\n      <td>NaN</td>\n      <td>NaN</td>\n      <td>NaN</td>\n      <td>NaN</td>\n      <td>NaN</td>\n      <td>NaN</td>\n      <td>NaN</td>\n      <td>NaN</td>\n      <td>NaN</td>\n      <td>NaN</td>\n    </tr>\n  </tbody>\n</table>\n<p>5690 rows × 1824 columns</p>\n</div>"
     },
     "metadata": {},
     "output_type": "execute_result",
     "execution_count": 109
    }
   ],
   "source": [
    "r_df = rating_df.pivot(index = 'userID', columns ='itemID', values = 'rating')\n",
    "r_df"
   ]
  },
  {
   "cell_type": "markdown",
   "metadata": {},
   "source": [
    "### Calculating the mean for each user and demeaning the original data\n",
    "Then we can compute the average rating for each user, then normalize the data by using the average of each user in R_demeaned. We used the pivoted dataset to replace the values for each movies with the average for each user. Doing this we normalize and set the unknown rates with the user mean(0 after substraction). To be able to calculate our 3 matrixes, the data has to be demeaned."
   ]
  },
  {
   "cell_type": "code",
   "execution_count": 110,
   "metadata": {
    "pycharm": {
     "is_executing": false
    },
    "scrolled": true
   },
   "outputs": [
    {
     "data": {
      "text/plain": "array([4.        , 4.07692308, 4.2972973 , ..., 3.52173913, 4.01190476,\n       3.55744681])"
     },
     "metadata": {},
     "output_type": "execute_result",
     "execution_count": 110
    }
   ],
   "source": [
    "users_mean=np.array(r_df.mean(axis=1))\n",
    "users_mean"
   ]
  },
  {
   "cell_type": "code",
   "execution_count": 111,
   "outputs": [
    {
     "name": "stderr",
     "text": [
      "c:\\users\\abuliga\\pycharmprojects\\thisnewproject\\lib\\site-packages\\ipykernel_launcher.py:2: FutureWarning: Method .as_matrix will be removed in a future version. Use .values instead.\n  \n"
     ],
     "output_type": "stream"
    },
    {
     "data": {
      "text/plain": "array([[0., 0., 0., ..., 0., 0., 0.],\n       [0., 0., 0., ..., 0., 0., 0.],\n       [0., 0., 0., ..., 0., 0., 0.],\n       ...,\n       [0., 0., 0., ..., 0., 0., 0.],\n       [0., 0., 0., ..., 0., 0., 0.],\n       [0., 0., 0., ..., 0., 0., 0.]])"
     },
     "metadata": {},
     "output_type": "execute_result",
     "execution_count": 111
    }
   ],
   "source": [
    "R_demeaned=r_df.sub(r_df.mean(axis=1), axis=0)\n",
    "R_demeaned=R_demeaned.fillna(0).as_matrix()\n",
    "R_demeaned"
   ],
   "metadata": {
    "collapsed": false,
    "pycharm": {
     "name": "#%%\n",
     "is_executing": false
    }
   }
  },
  {
   "cell_type": "code",
   "execution_count": 112,
   "metadata": {
    "pycharm": {
     "is_executing": false,
     "name": "#%%\n"
    },
    "scrolled": true
   },
   "outputs": [
    {
     "data": {
      "text/plain": "(5690, 1824)"
     },
     "metadata": {},
     "output_type": "execute_result",
     "execution_count": 112
    }
   ],
   "source": [
    "R_demeaned.shape"
   ]
  },
  {
   "cell_type": "markdown",
   "metadata": {},
   "source": [
    "### Using SVDS to calculate the U,Sigma and V^T matrices\n",
    "Now my matrix is properly formatted and normalized, I can go on with the singular value decomposition. I used the svds function from scipy because it lets me choose how many latent factors I use to approimate the original ratings matrix (instead of having to truncate afterwards). I defined the 3 matrixes above, which will be used to calculate our reconstructed matrix below.\n",
    "For movies, predictions from lower rank matrices with values of k between roughly 20 and 100 have been found to be the best at generalizing to unseen data."
   ]
  },
  {
   "cell_type": "code",
   "execution_count": 113,
   "metadata": {
    "pycharm": {
     "is_executing": false,
     "name": "#%%\n"
    }
   },
   "outputs": [],
   "source": [
    "U, sigma, Vt = svds(R_demeaned, k = 20,maxiter=20)"
   ]
  },
  {
   "cell_type": "markdown",
   "metadata": {},
   "source": [
    "The svds function just prints out the values of the diagonal matrix we defined above as Σ, but for matrix multiplication we need to convert it into a diagonal matrix."
   ]
  },
  {
   "cell_type": "code",
   "execution_count": 114,
   "metadata": {
    "pycharm": {
     "is_executing": false
    }
   },
   "outputs": [
    {
     "data": {
      "text/plain": "array([[ 42.49678016,   0.        ,   0.        ,   0.        ,\n          0.        ,   0.        ,   0.        ,   0.        ,\n          0.        ,   0.        ,   0.        ,   0.        ,\n          0.        ,   0.        ,   0.        ,   0.        ,\n          0.        ,   0.        ,   0.        ,   0.        ],\n       [  0.        ,  42.83402439,   0.        ,   0.        ,\n          0.        ,   0.        ,   0.        ,   0.        ,\n          0.        ,   0.        ,   0.        ,   0.        ,\n          0.        ,   0.        ,   0.        ,   0.        ,\n          0.        ,   0.        ,   0.        ,   0.        ],\n       [  0.        ,   0.        ,  43.6471488 ,   0.        ,\n          0.        ,   0.        ,   0.        ,   0.        ,\n          0.        ,   0.        ,   0.        ,   0.        ,\n          0.        ,   0.        ,   0.        ,   0.        ,\n          0.        ,   0.        ,   0.        ,   0.        ],\n       [  0.        ,   0.        ,   0.        ,  44.31374069,\n          0.        ,   0.        ,   0.        ,   0.        ,\n          0.        ,   0.        ,   0.        ,   0.        ,\n          0.        ,   0.        ,   0.        ,   0.        ,\n          0.        ,   0.        ,   0.        ,   0.        ],\n       [  0.        ,   0.        ,   0.        ,   0.        ,\n         44.52016032,   0.        ,   0.        ,   0.        ,\n          0.        ,   0.        ,   0.        ,   0.        ,\n          0.        ,   0.        ,   0.        ,   0.        ,\n          0.        ,   0.        ,   0.        ,   0.        ],\n       [  0.        ,   0.        ,   0.        ,   0.        ,\n          0.        ,  44.803364  ,   0.        ,   0.        ,\n          0.        ,   0.        ,   0.        ,   0.        ,\n          0.        ,   0.        ,   0.        ,   0.        ,\n          0.        ,   0.        ,   0.        ,   0.        ],\n       [  0.        ,   0.        ,   0.        ,   0.        ,\n          0.        ,   0.        ,  46.71988861,   0.        ,\n          0.        ,   0.        ,   0.        ,   0.        ,\n          0.        ,   0.        ,   0.        ,   0.        ,\n          0.        ,   0.        ,   0.        ,   0.        ],\n       [  0.        ,   0.        ,   0.        ,   0.        ,\n          0.        ,   0.        ,   0.        ,  46.9143639 ,\n          0.        ,   0.        ,   0.        ,   0.        ,\n          0.        ,   0.        ,   0.        ,   0.        ,\n          0.        ,   0.        ,   0.        ,   0.        ],\n       [  0.        ,   0.        ,   0.        ,   0.        ,\n          0.        ,   0.        ,   0.        ,   0.        ,\n         47.73461868,   0.        ,   0.        ,   0.        ,\n          0.        ,   0.        ,   0.        ,   0.        ,\n          0.        ,   0.        ,   0.        ,   0.        ],\n       [  0.        ,   0.        ,   0.        ,   0.        ,\n          0.        ,   0.        ,   0.        ,   0.        ,\n          0.        ,  49.11922517,   0.        ,   0.        ,\n          0.        ,   0.        ,   0.        ,   0.        ,\n          0.        ,   0.        ,   0.        ,   0.        ],\n       [  0.        ,   0.        ,   0.        ,   0.        ,\n          0.        ,   0.        ,   0.        ,   0.        ,\n          0.        ,   0.        ,  50.74791535,   0.        ,\n          0.        ,   0.        ,   0.        ,   0.        ,\n          0.        ,   0.        ,   0.        ,   0.        ],\n       [  0.        ,   0.        ,   0.        ,   0.        ,\n          0.        ,   0.        ,   0.        ,   0.        ,\n          0.        ,   0.        ,   0.        ,  50.92626449,\n          0.        ,   0.        ,   0.        ,   0.        ,\n          0.        ,   0.        ,   0.        ,   0.        ],\n       [  0.        ,   0.        ,   0.        ,   0.        ,\n          0.        ,   0.        ,   0.        ,   0.        ,\n          0.        ,   0.        ,   0.        ,   0.        ,\n         53.49085039,   0.        ,   0.        ,   0.        ,\n          0.        ,   0.        ,   0.        ,   0.        ],\n       [  0.        ,   0.        ,   0.        ,   0.        ,\n          0.        ,   0.        ,   0.        ,   0.        ,\n          0.        ,   0.        ,   0.        ,   0.        ,\n          0.        ,  55.65626106,   0.        ,   0.        ,\n          0.        ,   0.        ,   0.        ,   0.        ],\n       [  0.        ,   0.        ,   0.        ,   0.        ,\n          0.        ,   0.        ,   0.        ,   0.        ,\n          0.        ,   0.        ,   0.        ,   0.        ,\n          0.        ,   0.        ,  59.80060071,   0.        ,\n          0.        ,   0.        ,   0.        ,   0.        ],\n       [  0.        ,   0.        ,   0.        ,   0.        ,\n          0.        ,   0.        ,   0.        ,   0.        ,\n          0.        ,   0.        ,   0.        ,   0.        ,\n          0.        ,   0.        ,   0.        ,  62.04415555,\n          0.        ,   0.        ,   0.        ,   0.        ],\n       [  0.        ,   0.        ,   0.        ,   0.        ,\n          0.        ,   0.        ,   0.        ,   0.        ,\n          0.        ,   0.        ,   0.        ,   0.        ,\n          0.        ,   0.        ,   0.        ,   0.        ,\n         68.06539075,   0.        ,   0.        ,   0.        ],\n       [  0.        ,   0.        ,   0.        ,   0.        ,\n          0.        ,   0.        ,   0.        ,   0.        ,\n          0.        ,   0.        ,   0.        ,   0.        ,\n          0.        ,   0.        ,   0.        ,   0.        ,\n          0.        ,  70.22731699,   0.        ,   0.        ],\n       [  0.        ,   0.        ,   0.        ,   0.        ,\n          0.        ,   0.        ,   0.        ,   0.        ,\n          0.        ,   0.        ,   0.        ,   0.        ,\n          0.        ,   0.        ,   0.        ,   0.        ,\n          0.        ,   0.        ,  88.23299051,   0.        ],\n       [  0.        ,   0.        ,   0.        ,   0.        ,\n          0.        ,   0.        ,   0.        ,   0.        ,\n          0.        ,   0.        ,   0.        ,   0.        ,\n          0.        ,   0.        ,   0.        ,   0.        ,\n          0.        ,   0.        ,   0.        , 174.87964375]])"
     },
     "metadata": {},
     "output_type": "execute_result",
     "execution_count": 114
    }
   ],
   "source": [
    "sigma = np.diag(sigma)\n",
    "sigma"
   ]
  },
  {
   "cell_type": "code",
   "execution_count": 115,
   "outputs": [
    {
     "data": {
      "text/plain": "array([[ 0.        ,  0.        ,  0.        , ...,  0.        ,\n         0.        ,  0.        ],\n       [ 0.00177074, -0.0063769 ,  0.00504841, ...,  0.00243039,\n         0.00276918, -0.00072927],\n       [ 0.01433633,  0.00286957,  0.00753249, ...,  0.00398687,\n         0.00119028, -0.0012506 ],\n       ...,\n       [ 0.00294853,  0.00196687,  0.00243141, ...,  0.00016709,\n        -0.00017324, -0.00064984],\n       [-0.00048142, -0.00102176,  0.0010381 , ...,  0.00682453,\n        -0.00228173, -0.00321078],\n       [ 0.01036243,  0.01327087,  0.00269019, ...,  0.03296971,\n        -0.04673466, -0.02218824]])"
     },
     "metadata": {},
     "output_type": "execute_result",
     "execution_count": 115
    }
   ],
   "source": [
    "U"
   ],
   "metadata": {
    "collapsed": false,
    "pycharm": {
     "name": "#%%\n",
     "is_executing": false
    }
   }
  },
  {
   "cell_type": "code",
   "execution_count": 116,
   "outputs": [
    {
     "data": {
      "text/plain": "array([[-0.00679028,  0.00572232,  0.00465115, ..., -0.00114808,\n        -0.00649961, -0.01167487],\n       [ 0.0037671 , -0.00372763, -0.00441896, ..., -0.00595917,\n        -0.00256974, -0.00410129],\n       [ 0.02936087, -0.0017641 , -0.01129981, ...,  0.00477656,\n        -0.00148752, -0.0124447 ],\n       ...,\n       [ 0.0005008 ,  0.00463704, -0.00486389, ...,  0.00382646,\n         0.00110186, -0.0050521 ],\n       [-0.00052407, -0.0157004 , -0.00138182, ...,  0.0033236 ,\n         0.00359132,  0.00344058],\n       [ 0.01144526,  0.01543923, -0.00552631, ...,  0.01057347,\n        -0.00032013, -0.00570157]])"
     },
     "metadata": {},
     "output_type": "execute_result",
     "execution_count": 116
    }
   ],
   "source": [
    "Vt"
   ],
   "metadata": {
    "collapsed": false,
    "pycharm": {
     "name": "#%%\n",
     "is_executing": false
    }
   }
  },
  {
   "cell_type": "markdown",
   "metadata": {},
   "source": [
    "Now we have everything we need to predict the ratings for all users and all movies in the original dataset. The way the predictions are computed is by using dot product(matrix) and multiplying the U,Σ and then use that dot product to multiplicate again with  the Vt matrix to get the reconstructed matrix. The reconstructed matrix with the the mean of the users gives me back the predicted ratings for each user and for each movie."
   ]
  },
  {
   "cell_type": "markdown",
   "metadata": {
    "pycharm": {
     "is_executing": false,
     "name": "#%% md\n"
    }
   },
   "source": [
    "### Computing the user predictions\n",
    "Below I obtained all the predicted values for each user that need to be combined with the mean rating of each user. Basically this is the reconstructed A matrix."
   ]
  },
  {
   "cell_type": "code",
   "execution_count": 117,
   "outputs": [
    {
     "data": {
      "text/plain": "array([[ 0.        ,  0.        ,  0.        , ...,  0.        ,\n         0.        ,  0.        ],\n       [ 0.00836806,  0.00237305, -0.00237038, ...,  0.01207046,\n         0.00315937,  0.005653  ],\n       [-0.00089247,  0.01384197, -0.01075017, ...,  0.02438522,\n         0.00067371, -0.00598711],\n       ...,\n       [ 0.00504862,  0.0103067 ,  0.00422247, ...,  0.00415781,\n        -0.00209619,  0.007994  ],\n       [ 0.00740605, -0.00269385, -0.0074761 , ..., -0.0001236 ,\n        -0.00257709, -0.00475029],\n       [ 0.04380527, -0.0238351 ,  0.01825917, ...,  0.00154547,\n        -0.00993703,  0.00102514]])"
     },
     "metadata": {},
     "output_type": "execute_result",
     "execution_count": 117
    }
   ],
   "source": [
    "predicted_ratings = np.dot(np.dot(U, sigma), Vt)\n",
    "predicted_ratings"
   ],
   "metadata": {
    "collapsed": false,
    "pycharm": {
     "name": "#%%\n",
     "is_executing": false
    }
   }
  },
  {
   "cell_type": "markdown",
   "source": [
    "Now I can add back the user`s means."
   ],
   "metadata": {
    "collapsed": false,
    "pycharm": {
     "name": "#%% md\n"
    }
   }
  },
  {
   "cell_type": "code",
   "execution_count": 118,
   "outputs": [],
   "source": [
    "all_user_predicted_ratings = predicted_ratings+users_mean.reshape(-1, 1)"
   ],
   "metadata": {
    "collapsed": false,
    "pycharm": {
     "name": "#%%\n",
     "is_executing": false
    }
   }
  },
  {
   "cell_type": "markdown",
   "source": [
    "Now that we have all the predicted ratings,I used the columns from the pivoted dataset to match them to the corresponding userID and movieID. "
   ],
   "metadata": {
    "collapsed": false,
    "pycharm": {
     "name": "#%% md\n"
    }
   }
  },
  {
   "cell_type": "code",
   "execution_count": 119,
   "outputs": [
    {
     "data": {
      "text/plain": "itemID      89        93        94        95        97        98        100   \\\n1       4.000000  4.000000  4.000000  4.000000  4.000000  4.000000  4.000000   \n3       4.085291  4.079296  4.074553  4.075073  4.077867  4.077451  4.085337   \n5       4.296405  4.311139  4.286547  4.242423  4.298161  4.297616  4.299339   \n7       4.137748  4.151516  4.146522  4.115969  4.142099  4.143494  4.131382   \n9       3.295425  3.334860  3.361143  3.315955  3.320208  3.322225  3.306172   \n...          ...       ...       ...       ...       ...       ...       ...   \n12069   2.593849  2.560817  2.822270  2.182376  2.637337  2.665910  2.675123   \n12071   3.401296  3.305412  3.358908  2.974460  3.395930  3.322987  3.228641   \n12073   3.526788  3.532046  3.525962  3.506134  3.523103  3.523525  3.520468   \n12077   4.019311  4.009211  4.004429  4.076412  4.012606  4.011201  4.010056   \n12079   3.601252  3.533612  3.575706  3.759503  3.591442  3.552731  3.564691   \n\nitemID      101       102       104   ...      3929      3930      3931  \\\n1       4.000000  4.000000  4.000000  ...  4.000000  4.000000  4.000000   \n3       4.074300  4.067506  4.090479  ...  4.080160  4.076845  4.074610   \n5       4.285723  4.293009  4.288283  ...  4.295841  4.282518  4.307778   \n7       4.143822  4.148396  4.151630  ...  4.141997  4.138665  4.142214   \n9       3.354904  3.366350  3.148644  ...  3.333369  3.339932  3.334072   \n...          ...       ...       ...  ...       ...       ...       ...   \n12069   2.789620  2.382447  2.564328  ...  2.627376  2.632516  2.648115   \n12071   3.395010  3.384801  2.940222  ...  3.474766  3.474951  3.253646   \n12073   3.522763  3.515796  3.522240  ...  3.519022  3.508769  3.523716   \n12077   4.004379  4.009873  4.024203  ...  4.025315  4.006079  4.001331   \n12079   3.567987  3.617367  3.425534  ...  3.619558  3.555866  3.482875   \n\nitemID      3932      3937      3938      3945      3946      3950      3952  \n1       4.000000  4.000000  4.000000  4.000000  4.000000  4.000000  4.000000  \n3       4.069150  4.083393  4.077336  4.071088  4.088994  4.080082  4.082576  \n5       4.288229  4.305012  4.291263  4.305418  4.321683  4.297971  4.291310  \n7       4.139667  4.144548  4.144551  4.148126  4.135352  4.141047  4.143131  \n9       3.354983  3.287454  3.310640  3.301873  3.303933  3.323655  3.303599  \n...          ...       ...       ...       ...       ...       ...       ...  \n12069   2.606990  2.665217  2.621461  2.521409  2.581606  2.692735  2.880911  \n12071   3.493205  3.146316  3.338301  3.370784  3.128883  3.341565  3.463674  \n12073   3.508988  3.523508  3.522024  3.517813  3.525897  3.519643  3.529733  \n12077   4.020181  4.008827  4.010763  4.010388  4.011781  4.009328  4.007154  \n12079   3.618496  3.498900  3.498844  3.609363  3.558992  3.547510  3.558472  \n\n[5690 rows x 1824 columns]",
      "text/html": "<div>\n<style scoped>\n    .dataframe tbody tr th:only-of-type {\n        vertical-align: middle;\n    }\n\n    .dataframe tbody tr th {\n        vertical-align: top;\n    }\n\n    .dataframe thead th {\n        text-align: right;\n    }\n</style>\n<table border=\"1\" class=\"dataframe\">\n  <thead>\n    <tr style=\"text-align: right;\">\n      <th>itemID</th>\n      <th>89</th>\n      <th>93</th>\n      <th>94</th>\n      <th>95</th>\n      <th>97</th>\n      <th>98</th>\n      <th>100</th>\n      <th>101</th>\n      <th>102</th>\n      <th>104</th>\n      <th>...</th>\n      <th>3929</th>\n      <th>3930</th>\n      <th>3931</th>\n      <th>3932</th>\n      <th>3937</th>\n      <th>3938</th>\n      <th>3945</th>\n      <th>3946</th>\n      <th>3950</th>\n      <th>3952</th>\n    </tr>\n  </thead>\n  <tbody>\n    <tr>\n      <th>1</th>\n      <td>4.000000</td>\n      <td>4.000000</td>\n      <td>4.000000</td>\n      <td>4.000000</td>\n      <td>4.000000</td>\n      <td>4.000000</td>\n      <td>4.000000</td>\n      <td>4.000000</td>\n      <td>4.000000</td>\n      <td>4.000000</td>\n      <td>...</td>\n      <td>4.000000</td>\n      <td>4.000000</td>\n      <td>4.000000</td>\n      <td>4.000000</td>\n      <td>4.000000</td>\n      <td>4.000000</td>\n      <td>4.000000</td>\n      <td>4.000000</td>\n      <td>4.000000</td>\n      <td>4.000000</td>\n    </tr>\n    <tr>\n      <th>3</th>\n      <td>4.085291</td>\n      <td>4.079296</td>\n      <td>4.074553</td>\n      <td>4.075073</td>\n      <td>4.077867</td>\n      <td>4.077451</td>\n      <td>4.085337</td>\n      <td>4.074300</td>\n      <td>4.067506</td>\n      <td>4.090479</td>\n      <td>...</td>\n      <td>4.080160</td>\n      <td>4.076845</td>\n      <td>4.074610</td>\n      <td>4.069150</td>\n      <td>4.083393</td>\n      <td>4.077336</td>\n      <td>4.071088</td>\n      <td>4.088994</td>\n      <td>4.080082</td>\n      <td>4.082576</td>\n    </tr>\n    <tr>\n      <th>5</th>\n      <td>4.296405</td>\n      <td>4.311139</td>\n      <td>4.286547</td>\n      <td>4.242423</td>\n      <td>4.298161</td>\n      <td>4.297616</td>\n      <td>4.299339</td>\n      <td>4.285723</td>\n      <td>4.293009</td>\n      <td>4.288283</td>\n      <td>...</td>\n      <td>4.295841</td>\n      <td>4.282518</td>\n      <td>4.307778</td>\n      <td>4.288229</td>\n      <td>4.305012</td>\n      <td>4.291263</td>\n      <td>4.305418</td>\n      <td>4.321683</td>\n      <td>4.297971</td>\n      <td>4.291310</td>\n    </tr>\n    <tr>\n      <th>7</th>\n      <td>4.137748</td>\n      <td>4.151516</td>\n      <td>4.146522</td>\n      <td>4.115969</td>\n      <td>4.142099</td>\n      <td>4.143494</td>\n      <td>4.131382</td>\n      <td>4.143822</td>\n      <td>4.148396</td>\n      <td>4.151630</td>\n      <td>...</td>\n      <td>4.141997</td>\n      <td>4.138665</td>\n      <td>4.142214</td>\n      <td>4.139667</td>\n      <td>4.144548</td>\n      <td>4.144551</td>\n      <td>4.148126</td>\n      <td>4.135352</td>\n      <td>4.141047</td>\n      <td>4.143131</td>\n    </tr>\n    <tr>\n      <th>9</th>\n      <td>3.295425</td>\n      <td>3.334860</td>\n      <td>3.361143</td>\n      <td>3.315955</td>\n      <td>3.320208</td>\n      <td>3.322225</td>\n      <td>3.306172</td>\n      <td>3.354904</td>\n      <td>3.366350</td>\n      <td>3.148644</td>\n      <td>...</td>\n      <td>3.333369</td>\n      <td>3.339932</td>\n      <td>3.334072</td>\n      <td>3.354983</td>\n      <td>3.287454</td>\n      <td>3.310640</td>\n      <td>3.301873</td>\n      <td>3.303933</td>\n      <td>3.323655</td>\n      <td>3.303599</td>\n    </tr>\n    <tr>\n      <th>...</th>\n      <td>...</td>\n      <td>...</td>\n      <td>...</td>\n      <td>...</td>\n      <td>...</td>\n      <td>...</td>\n      <td>...</td>\n      <td>...</td>\n      <td>...</td>\n      <td>...</td>\n      <td>...</td>\n      <td>...</td>\n      <td>...</td>\n      <td>...</td>\n      <td>...</td>\n      <td>...</td>\n      <td>...</td>\n      <td>...</td>\n      <td>...</td>\n      <td>...</td>\n      <td>...</td>\n    </tr>\n    <tr>\n      <th>12069</th>\n      <td>2.593849</td>\n      <td>2.560817</td>\n      <td>2.822270</td>\n      <td>2.182376</td>\n      <td>2.637337</td>\n      <td>2.665910</td>\n      <td>2.675123</td>\n      <td>2.789620</td>\n      <td>2.382447</td>\n      <td>2.564328</td>\n      <td>...</td>\n      <td>2.627376</td>\n      <td>2.632516</td>\n      <td>2.648115</td>\n      <td>2.606990</td>\n      <td>2.665217</td>\n      <td>2.621461</td>\n      <td>2.521409</td>\n      <td>2.581606</td>\n      <td>2.692735</td>\n      <td>2.880911</td>\n    </tr>\n    <tr>\n      <th>12071</th>\n      <td>3.401296</td>\n      <td>3.305412</td>\n      <td>3.358908</td>\n      <td>2.974460</td>\n      <td>3.395930</td>\n      <td>3.322987</td>\n      <td>3.228641</td>\n      <td>3.395010</td>\n      <td>3.384801</td>\n      <td>2.940222</td>\n      <td>...</td>\n      <td>3.474766</td>\n      <td>3.474951</td>\n      <td>3.253646</td>\n      <td>3.493205</td>\n      <td>3.146316</td>\n      <td>3.338301</td>\n      <td>3.370784</td>\n      <td>3.128883</td>\n      <td>3.341565</td>\n      <td>3.463674</td>\n    </tr>\n    <tr>\n      <th>12073</th>\n      <td>3.526788</td>\n      <td>3.532046</td>\n      <td>3.525962</td>\n      <td>3.506134</td>\n      <td>3.523103</td>\n      <td>3.523525</td>\n      <td>3.520468</td>\n      <td>3.522763</td>\n      <td>3.515796</td>\n      <td>3.522240</td>\n      <td>...</td>\n      <td>3.519022</td>\n      <td>3.508769</td>\n      <td>3.523716</td>\n      <td>3.508988</td>\n      <td>3.523508</td>\n      <td>3.522024</td>\n      <td>3.517813</td>\n      <td>3.525897</td>\n      <td>3.519643</td>\n      <td>3.529733</td>\n    </tr>\n    <tr>\n      <th>12077</th>\n      <td>4.019311</td>\n      <td>4.009211</td>\n      <td>4.004429</td>\n      <td>4.076412</td>\n      <td>4.012606</td>\n      <td>4.011201</td>\n      <td>4.010056</td>\n      <td>4.004379</td>\n      <td>4.009873</td>\n      <td>4.024203</td>\n      <td>...</td>\n      <td>4.025315</td>\n      <td>4.006079</td>\n      <td>4.001331</td>\n      <td>4.020181</td>\n      <td>4.008827</td>\n      <td>4.010763</td>\n      <td>4.010388</td>\n      <td>4.011781</td>\n      <td>4.009328</td>\n      <td>4.007154</td>\n    </tr>\n    <tr>\n      <th>12079</th>\n      <td>3.601252</td>\n      <td>3.533612</td>\n      <td>3.575706</td>\n      <td>3.759503</td>\n      <td>3.591442</td>\n      <td>3.552731</td>\n      <td>3.564691</td>\n      <td>3.567987</td>\n      <td>3.617367</td>\n      <td>3.425534</td>\n      <td>...</td>\n      <td>3.619558</td>\n      <td>3.555866</td>\n      <td>3.482875</td>\n      <td>3.618496</td>\n      <td>3.498900</td>\n      <td>3.498844</td>\n      <td>3.609363</td>\n      <td>3.558992</td>\n      <td>3.547510</td>\n      <td>3.558472</td>\n    </tr>\n  </tbody>\n</table>\n<p>5690 rows × 1824 columns</p>\n</div>"
     },
     "metadata": {},
     "output_type": "execute_result",
     "execution_count": 119
    }
   ],
   "source": [
    "preds_df = pd.DataFrame(all_user_predicted_ratings, columns = r_df.columns)\n",
    "preds_df.index=r_df.index.values\n",
    "preds_df"
   ],
   "metadata": {
    "collapsed": false,
    "pycharm": {
     "name": "#%%\n",
     "is_executing": false
    }
   }
  },
  {
   "cell_type": "markdown",
   "metadata": {},
   "source": [
    "### Finding the top 10 recommendations for each user\n",
    "In the preds_df dataframe, each column of itemID refers to a movie and each row represents on user. What I did next is sort the ratings in descendig order to get the top 10 predited ratings for each user. Also, I used the userID column from thetest dataset as the index to extract the predictions only for the users in the test set."
   ]
  },
  {
   "cell_type": "code",
   "execution_count": 120,
   "metadata": {
    "pycharm": {
     "is_executing": false,
     "name": "#%%\n"
    },
    "scrolled": true
   },
   "outputs": [
    {
     "data": {
      "text/plain": "0           1\n1           3\n2          11\n3          29\n4          31\n        ...  \n1987    12047\n1988    12051\n1989    12061\n1990    12063\n1991    12073\nName: userID, Length: 1992, dtype: int64"
     },
     "metadata": {},
     "output_type": "execute_result",
     "execution_count": 120
    }
   ],
   "source": [
    "users = test.loc[:,'userID']\n",
    "users"
   ]
  },
  {
   "cell_type": "markdown",
   "metadata": {},
   "source": [
    "Finally, I am going to build the recommendations dataset with the following for loop: I used the index above to determine the users that I want to predict for, then I used the top10 list to get the top 10 reccomended movies for each user after sorting them in descending order. Then I transforme the user predictions into a string and concatenated them together in a series where the key value is the userID and the values are the top 10 recommended unseen movies for each user."
   ]
  },
  {
   "cell_type": "code",
   "execution_count": 121,
   "metadata": {
    "pycharm": {
     "is_executing": false,
     "name": "#%%\n"
    }
   },
   "outputs": [],
   "source": [
    "col_names = preds_df.columns\n",
    "ind = 0\n",
    "for j in range(len(users)):\n",
    "    user = users[j]\n",
    "    user_pred = []\n",
    "    rating = preds_df.loc[user,:]\n",
    "    rating = rating.sort_values(ascending=False)\n",
    "    top10 = rating[0:10]\n",
    "    indices = top10.index[:].tolist()\n",
    "    indices_str = str(indices).strip('[]').replace(\",\", \" \")\n",
    "    user_pred = [indices]\n",
    "    test.loc[ind] = pd.Series({'userID':user,'recommended_itemIDs':indices_str})\n",
    "    ind += 1"
   ]
  },
  {
   "cell_type": "markdown",
   "source": [
    "Here I have the final output where I obtained the top 10 movies for each user and the movies` respective IDs"
   ],
   "metadata": {
    "collapsed": false,
    "pycharm": {
     "name": "#%% md\n",
     "is_executing": false
    }
   }
  },
  {
   "cell_type": "code",
   "execution_count": 122,
   "outputs": [
    {
     "data": {
      "text/plain": "   userID                                recommended_itemIDs\n0       1  3952  1401  1405  1406  1407  1408  1409  1412...\n1       3  260  1196  1097  2628  1198  1270  3471  1197 ...\n2      11  1097  2858  1721  1270  2657  587  924  3471  ...\n3      29  318  2762  593  2028  3147  589  2858  457  23...\n4      31  2683  1517  2700  2706  3253  223  919  1721  ...\n5      33  260  1196  1198  924  1240  541  1197  919  10...\n6      35  2028  1198  1196  1197  260  1617  1291  858  ...\n7      51  2858  2628  1213  3418  1544  590  2706  2028 ...\n8      53  2858  260  1196  2997  2628  1198  858  912  9...\n9      55  260  1196  1198  1197  1291  919  912  1148  1...",
      "text/html": "<div>\n<style scoped>\n    .dataframe tbody tr th:only-of-type {\n        vertical-align: middle;\n    }\n\n    .dataframe tbody tr th {\n        vertical-align: top;\n    }\n\n    .dataframe thead th {\n        text-align: right;\n    }\n</style>\n<table border=\"1\" class=\"dataframe\">\n  <thead>\n    <tr style=\"text-align: right;\">\n      <th></th>\n      <th>userID</th>\n      <th>recommended_itemIDs</th>\n    </tr>\n  </thead>\n  <tbody>\n    <tr>\n      <th>0</th>\n      <td>1</td>\n      <td>3952  1401  1405  1406  1407  1408  1409  1412...</td>\n    </tr>\n    <tr>\n      <th>1</th>\n      <td>3</td>\n      <td>260  1196  1097  2628  1198  1270  3471  1197 ...</td>\n    </tr>\n    <tr>\n      <th>2</th>\n      <td>11</td>\n      <td>1097  2858  1721  1270  2657  587  924  3471  ...</td>\n    </tr>\n    <tr>\n      <th>3</th>\n      <td>29</td>\n      <td>318  2762  593  2028  3147  589  2858  457  23...</td>\n    </tr>\n    <tr>\n      <th>4</th>\n      <td>31</td>\n      <td>2683  1517  2700  2706  3253  223  919  1721  ...</td>\n    </tr>\n    <tr>\n      <th>5</th>\n      <td>33</td>\n      <td>260  1196  1198  924  1240  541  1197  919  10...</td>\n    </tr>\n    <tr>\n      <th>6</th>\n      <td>35</td>\n      <td>2028  1198  1196  1197  260  1617  1291  858  ...</td>\n    </tr>\n    <tr>\n      <th>7</th>\n      <td>51</td>\n      <td>2858  2628  1213  3418  1544  590  2706  2028 ...</td>\n    </tr>\n    <tr>\n      <th>8</th>\n      <td>53</td>\n      <td>2858  260  1196  2997  2628  1198  858  912  9...</td>\n    </tr>\n    <tr>\n      <th>9</th>\n      <td>55</td>\n      <td>260  1196  1198  1197  1291  919  912  1148  1...</td>\n    </tr>\n  </tbody>\n</table>\n</div>"
     },
     "metadata": {},
     "output_type": "execute_result",
     "execution_count": 122
    }
   ],
   "source": [
    "test.head(10)"
   ],
   "metadata": {
    "collapsed": false,
    "pycharm": {
     "name": "#%%\n",
     "is_executing": false
    }
   }
  },
  {
   "cell_type": "markdown",
   "metadata": {},
   "source": [
    "In the end I just export my final Series to a csv file as to upload the result to the Kaggle competition page."
   ]
  },
  {
   "cell_type": "code",
   "execution_count": 123,
   "metadata": {
    "pycharm": {
     "is_executing": false,
     "name": "#%%\n"
    }
   },
   "outputs": [],
   "source": [
    "test.to_csv(path_or_buf = 'recommendations.csv', \n",
    "                  index = False,\n",
    "                  header = True, sep = ',')"
   ]
  },
  {
   "cell_type": "code",
   "execution_count": 123,
   "outputs": [],
   "source": [
    "\n"
   ],
   "metadata": {
    "collapsed": false,
    "pycharm": {
     "name": "#%%\n",
     "is_executing": false
    }
   }
  }
 ],
 "metadata": {
  "kernelspec": {
   "display_name": "Python 3",
   "language": "python",
   "name": "python3"
  },
  "language_info": {
   "codemirror_mode": {
    "name": "ipython",
    "version": 3
   },
   "file_extension": ".py",
   "mimetype": "text/x-python",
   "name": "python",
   "nbconvert_exporter": "python",
   "pygments_lexer": "ipython3",
   "version": "3.7.3"
  },
  "pycharm": {
   "stem_cell": {
    "cell_type": "raw",
    "source": [],
    "metadata": {
     "collapsed": false
    }
   }
  }
 },
 "nbformat": 4,
 "nbformat_minor": 1
}